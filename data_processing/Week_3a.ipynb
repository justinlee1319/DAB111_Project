{
 "cells": [
  {
   "cell_type": "markdown",
   "id": "fd2fa079-bf36-4a5a-b4dc-f70d2f0fb863",
   "metadata": {},
   "source": [
    "# Week 3a: String manipulation"
   ]
  },
  {
   "cell_type": "markdown",
   "id": "17332abf-462c-4bad-b867-341a3ad8310d",
   "metadata": {},
   "source": [
    "### Creating Strings\n",
    "\n",
    " - `\"\"`\n",
    " - `''`\n",
    " - `/`\n",
    " - `\"\"\"`\n",
    " - `'''`\n",
    " - `\\'`\n",
    " - `\\\"`\n"
   ]
  },
  {
   "cell_type": "code",
   "execution_count": null,
   "id": "d187ca3e-63ee-4747-a989-710333ffc4e8",
   "metadata": {},
   "outputs": [],
   "source": []
  },
  {
   "cell_type": "markdown",
   "id": "94f8cb98-dcb7-482f-9159-5e261b510009",
   "metadata": {},
   "source": [
    "### Operators\n",
    "\n",
    "- \\+ = concatenation\n",
    "- \\* = concatenates multiples copies of a string\n",
    "- in/not in = membership"
   ]
  },
  {
   "cell_type": "code",
   "execution_count": null,
   "id": "62d189c6-260f-4b97-8dea-2c598c17fefd",
   "metadata": {},
   "outputs": [],
   "source": []
  },
  {
   "cell_type": "markdown",
   "id": "59dece03-c7e2-4de6-9c59-6f8c15d1b889",
   "metadata": {
    "tags": []
   },
   "source": [
    "### Built-in funtions\n",
    "\n",
    "- `chr()`\n",
    "- `ord()`\n",
    "- `len()`\n",
    "- `str()`\n"
   ]
  },
  {
   "cell_type": "code",
   "execution_count": null,
   "id": "82016cdf-0b5f-4157-84ba-c7b26a93a830",
   "metadata": {},
   "outputs": [],
   "source": []
  },
  {
   "cell_type": "code",
   "execution_count": null,
   "id": "eb183d19-7606-4f96-91ef-87ce9caab7fd",
   "metadata": {},
   "outputs": [],
   "source": [
    "# write code that will take in an upper or lower case 'a', 'b', or 'c'\n",
    "# and return the same letter but of opposite case"
   ]
  },
  {
   "cell_type": "code",
   "execution_count": null,
   "id": "d49b8c9e-d098-45e3-a2ea-b0f8d1b476d6",
   "metadata": {},
   "outputs": [],
   "source": [
    "# write code that will take in any letter, in either case\n",
    "# and return the same letter but of opposite case"
   ]
  },
  {
   "cell_type": "markdown",
   "id": "2d2e4e3d-cb0d-4858-b55a-e0bafdcc82e7",
   "metadata": {},
   "source": [
    "### Indexing and Slicing\n",
    "\n",
    " - single character\n",
    " - range of characters\n",
    " - reverse a string\n",
    " - change step size"
   ]
  },
  {
   "cell_type": "code",
   "execution_count": null,
   "id": "004c9f42-19e5-4731-a6b3-de4b52d9dd6d",
   "metadata": {},
   "outputs": [],
   "source": []
  },
  {
   "cell_type": "markdown",
   "id": "676f0087-3f49-4280-a607-34f7483b3085",
   "metadata": {},
   "source": [
    "### f-strings\n",
    "\n",
    "- value only\n",
    "- name and value\n"
   ]
  },
  {
   "cell_type": "code",
   "execution_count": null,
   "id": "857769fb-dbe6-4367-95e9-a5b3b38e1c6d",
   "metadata": {},
   "outputs": [],
   "source": []
  },
  {
   "cell_type": "markdown",
   "id": "212ec48b-5a4b-4d3e-a1cf-1ce91d9fc4e1",
   "metadata": {},
   "source": [
    "### Modifying strings\n",
    "\n",
    "- immutable\n",
    "- slicing and concatenation\n",
    "- `.replace()`"
   ]
  },
  {
   "cell_type": "code",
   "execution_count": null,
   "id": "22359682-445d-429b-97af-e8057e4f789b",
   "metadata": {},
   "outputs": [],
   "source": []
  },
  {
   "cell_type": "markdown",
   "id": "087dbc76-feac-419c-beda-8150c97a3447",
   "metadata": {},
   "source": [
    "### Built-In Methods\n",
    "\n",
    "- methods are similar to functions\n",
    "- just like a function but closely associated with a specific type of object\n",
    "- instead of my_func(args) you use object.method(args)\n",
    "- see [W3 Shool list of string methods](https://www.w3schools.com/python/python_ref_string.asp)"
   ]
  },
  {
   "cell_type": "markdown",
   "id": "c06de3a8-2c75-4953-8088-2bc758758bf9",
   "metadata": {
    "tags": []
   },
   "source": [
    "#### Case Conversion\n",
    "\n",
    " - `capitalize`\n",
    " - `lower`\n",
    " - `upper`\n",
    " - `title`\n",
    " - `swapcase`"
   ]
  },
  {
   "cell_type": "code",
   "execution_count": null,
   "id": "beed33c1-2b29-4fc5-946e-6a3120cac7db",
   "metadata": {},
   "outputs": [],
   "source": [
    "s = \"tHe CAsE in THiS sTrIng Is WoNkY\""
   ]
  },
  {
   "cell_type": "code",
   "execution_count": null,
   "id": "2150aefe-bf18-41a5-9ea5-025625d69c9a",
   "metadata": {},
   "outputs": [],
   "source": []
  },
  {
   "cell_type": "markdown",
   "id": "155fee71-fbf1-450f-be29-913fce26cce8",
   "metadata": {},
   "source": [
    "#### Find and Seek\n",
    " \n",
    " - `count`\n",
    " - `endswith`\n",
    " - `startswith`\n",
    " - `find`\n",
    " - `index`\n",
    " - optional `start` and `end` index"
   ]
  },
  {
   "cell_type": "code",
   "execution_count": null,
   "id": "946d23e2-8d18-491d-a62e-c85f4a8d0a60",
   "metadata": {
    "tags": []
   },
   "outputs": [],
   "source": [
    "# write code that will use find to locate the index of all instances of 'this' in the string s = \"this this this this\""
   ]
  },
  {
   "cell_type": "code",
   "execution_count": null,
   "id": "1b2794da-2901-4b75-92e5-5ed34d383208",
   "metadata": {},
   "outputs": [],
   "source": []
  },
  {
   "cell_type": "markdown",
   "id": "857a5658-8923-4751-bebb-2e7b1da68c4b",
   "metadata": {},
   "source": [
    "#### Classification\n",
    "\n",
    "- isalnum()\n",
    "- isalpha()\n",
    "- isdigit()\n",
    "- isspace()\n",
    "- istitle()\n",
    "- islower()\n",
    "- isupper()"
   ]
  },
  {
   "cell_type": "code",
   "execution_count": null,
   "id": "e21bc16f-2902-4bab-b1d7-17218a5f7e98",
   "metadata": {
    "tags": []
   },
   "outputs": [],
   "source": [
    "s1 = \"This Is Not An All Lowercase String\"\n",
    "s2 = \"this string is all lowercase\""
   ]
  },
  {
   "cell_type": "code",
   "execution_count": null,
   "id": "3cae85bf-f92a-4d67-8d83-34842bb48d99",
   "metadata": {
    "tags": []
   },
   "outputs": [],
   "source": [
    "# write code to determine if s1 and s2 are already lowercase or not\n"
   ]
  },
  {
   "cell_type": "code",
   "execution_count": null,
   "id": "89a6377a-3ed2-4b22-8ba8-b6b56ef2b15d",
   "metadata": {},
   "outputs": [],
   "source": []
  },
  {
   "cell_type": "markdown",
   "id": "ba0ec003-7e04-4576-87be-9c6c4ad305ed",
   "metadata": {},
   "source": [
    "#### Formatting\n",
    "\n",
    "- `center`\n",
    "- `ljust`\n",
    "- `rjust`\n",
    "- `lstrip`\n",
    "- `rstrip`\n",
    "- `strip`\n",
    "- `zfill`"
   ]
  },
  {
   "cell_type": "code",
   "execution_count": null,
   "id": "e1983334-c4d1-48d0-91f6-a33e76e01570",
   "metadata": {},
   "outputs": [],
   "source": []
  },
  {
   "cell_type": "markdown",
   "id": "86f93b7e-65cd-4d3e-8934-5694b2ec1722",
   "metadata": {},
   "source": [
    "#### Conversion between strings and lists\n",
    "\n",
    "- `join`\n",
    "- `partition`\n",
    "- `split` with and without maxsplit\n",
    "- `rsplit` with and without maxsplit\n",
    "- `splitlines`\n"
   ]
  },
  {
   "cell_type": "code",
   "execution_count": null,
   "id": "6e4a43a2-c633-4263-9118-834db03e9a1c",
   "metadata": {},
   "outputs": [],
   "source": []
  },
  {
   "cell_type": "code",
   "execution_count": null,
   "id": "cab223fa-43b0-4646-8d01-94edf7b80433",
   "metadata": {},
   "outputs": [],
   "source": [
    "# write code that will take in a multiline string, split it into a list of \n",
    "# strings (one per line), make all strings lowercase, and remove any punctuation\n"
   ]
  },
  {
   "cell_type": "code",
   "execution_count": null,
   "id": "70ad9785-e975-4778-ba34-623f7ba1fb8b",
   "metadata": {},
   "outputs": [],
   "source": []
  }
 ],
 "metadata": {
  "kernelspec": {
   "display_name": "Python 3 (ipykernel)",
   "language": "python",
   "name": "python3"
  },
  "language_info": {
   "codemirror_mode": {
    "name": "ipython",
    "version": 3
   },
   "file_extension": ".py",
   "mimetype": "text/x-python",
   "name": "python",
   "nbconvert_exporter": "python",
   "pygments_lexer": "ipython3",
   "version": "3.11.4"
  }
 },
 "nbformat": 4,
 "nbformat_minor": 5
}
